{
 "cells": [
  {
   "cell_type": "code",
   "execution_count": null,
   "metadata": {
    "colab": {
     "base_uri": "https://localhost:8080/",
     "height": 357
    },
    "executionInfo": {
     "elapsed": 941,
     "status": "ok",
     "timestamp": 1602951857904,
     "user": {
      "displayName": "Niharika Kumari",
      "photoUrl": "https://lh3.googleusercontent.com/a-/AOh14GhGKFyRx4JuQeSveXihkzzzgDm9n5SOaeJM4-kk=s64",
      "userId": "05327291576486046575"
     },
     "user_tz": -120
    },
    "id": "HTT0tVP1XwuA",
    "outputId": "d202e916-96b4-4188-8de5-3ce27d696f65"
   },
   "outputs": [],
   "source": [
    "!nvidia-smi"
   ]
  },
  {
   "cell_type": "code",
   "execution_count": null,
   "metadata": {
    "colab": {
     "base_uri": "https://localhost:8080/"
    },
    "executionInfo": {
     "elapsed": 560,
     "status": "ok",
     "timestamp": 1613952290493,
     "user": {
      "displayName": "Niharika Kumari",
      "photoUrl": "https://lh3.googleusercontent.com/a-/AOh14GhGKFyRx4JuQeSveXihkzzzgDm9n5SOaeJM4-kk=s64",
      "userId": "05327291576486046575"
     },
     "user_tz": -60
    },
    "id": "gQcrwRxKYHWm",
    "outputId": "a14fdb90-c0e1-45e3-d2db-235725dea4e8"
   },
   "outputs": [],
   "source": [
    "from google.colab import drive\n",
    "drive.mount('/content/drive')"
   ]
  },
  {
   "cell_type": "code",
   "execution_count": null,
   "metadata": {
    "colab": {
     "base_uri": "https://localhost:8080/"
    },
    "executionInfo": {
     "elapsed": 586,
     "status": "ok",
     "timestamp": 1613952297041,
     "user": {
      "displayName": "Niharika Kumari",
      "photoUrl": "https://lh3.googleusercontent.com/a-/AOh14GhGKFyRx4JuQeSveXihkzzzgDm9n5SOaeJM4-kk=s64",
      "userId": "05327291576486046575"
     },
     "user_tz": -60
    },
    "id": "fCkiPGDnYHZs",
    "outputId": "5e42be51-e82d-4d5f-e8bc-f2f30efc7c60"
   },
   "outputs": [],
   "source": [
    "%cd '/content/drive/My Drive/Colab Notebooks/darknet'"
   ]
  },
  {
   "cell_type": "code",
   "execution_count": null,
   "metadata": {
    "executionInfo": {
     "elapsed": 577,
     "status": "ok",
     "timestamp": 1613952299601,
     "user": {
      "displayName": "Niharika Kumari",
      "photoUrl": "https://lh3.googleusercontent.com/a-/AOh14GhGKFyRx4JuQeSveXihkzzzgDm9n5SOaeJM4-kk=s64",
      "userId": "05327291576486046575"
     },
     "user_tz": -60
    },
    "id": "npaIzIp4YHc1"
   },
   "outputs": [],
   "source": [
    "import sys\n",
    "sys.path.append('.')"
   ]
  },
  {
   "cell_type": "code",
   "execution_count": null,
   "metadata": {
    "executionInfo": {
     "elapsed": 679,
     "status": "ok",
     "timestamp": 1613952302892,
     "user": {
      "displayName": "Niharika Kumari",
      "photoUrl": "https://lh3.googleusercontent.com/a-/AOh14GhGKFyRx4JuQeSveXihkzzzgDm9n5SOaeJM4-kk=s64",
      "userId": "05327291576486046575"
     },
     "user_tz": -60
    },
    "id": "WV0sBP5rYHi2"
   },
   "outputs": [],
   "source": [
    "!chmod u+x ./darknet"
   ]
  },
  {
   "cell_type": "code",
   "execution_count": null,
   "metadata": {
    "colab": {
     "base_uri": "https://localhost:8080/",
     "height": 309
    },
    "executionInfo": {
     "elapsed": 7841,
     "status": "ok",
     "timestamp": 1602952598742,
     "user": {
      "displayName": "Niharika Kumari",
      "photoUrl": "https://lh3.googleusercontent.com/a-/AOh14GhGKFyRx4JuQeSveXihkzzzgDm9n5SOaeJM4-kk=s64",
      "userId": "05327291576486046575"
     },
     "user_tz": -120
    },
    "id": "27B2Q-UXYHmG",
    "outputId": "277cf95f-2718-4a2c-c138-5044963aef0b"
   },
   "outputs": [],
   "source": [
    "!wget https://github.com/AlexeyAB/darknet/releases/download/darknet_yolo_v3_optimal/yolov4.conv.137"
   ]
  },
  {
   "cell_type": "code",
   "execution_count": null,
   "metadata": {
    "colab": {
     "base_uri": "https://localhost:8080/",
     "height": 51
    },
    "executionInfo": {
     "elapsed": 1849,
     "status": "ok",
     "timestamp": 1602968590128,
     "user": {
      "displayName": "Niharika Kumari",
      "photoUrl": "https://lh3.googleusercontent.com/a-/AOh14GhGKFyRx4JuQeSveXihkzzzgDm9n5SOaeJM4-kk=s64",
      "userId": "05327291576486046575"
     },
     "user_tz": -120
    },
    "id": "FOWbqXhwYHuw",
    "outputId": "1b53d021-dd34-4a96-b074-9867d302fbd3"
   },
   "outputs": [],
   "source": [
    "import os\n",
    "#we build config dynamically based on number of classes\n",
    "#we build iteratively from base config files. This is the same file shape as cfg/yolo-obj.cfg\n",
    "def file_len(fname):\n",
    "  with open(fname) as f:\n",
    "    for i, l in enumerate(f):\n",
    "      pass\n",
    "  return i + 1\n",
    "\n",
    "num_classes = 15\n",
    "print(\"writing config for a custom YOLOv4 detector detecting number of classes: \" + str(num_classes))\n",
    "\n",
    "#Instructions from the darknet repo\n",
    "#change line max_batches to (classes*2000 but not less than number of training images, and not less than 6000), f.e. max_batches=6000 if you train for 3 classes\n",
    "#change line steps to 80% and 90% of max_batches, f.e. steps=4800,5400\n",
    "if os.path.exists('/content/drive/My Drive/Colab Notebooks/darknet/cfg/custom-yolov4-detector.cfg'): os.remove('/content/drive/My Drive/Colab Notebooks/darknet/cfg/custom-yolov4-detector.cfg')\n",
    "\n",
    "\n",
    "with open('/content/drive/My Drive/Colab Notebooks/darknet/cfg/custom-yolov4-detector.cfg', 'a') as f:\n",
    "  f.write('[net]' + '\\n')\n",
    "  f.write('batch=64' + '\\n')\n",
    "  #####smaller subdivisions help the GPU run faster. 12 is optimal, but you might need to change to 24,36,64####\n",
    "  f.write('subdivisions=24' + '\\n')\n",
    "  f.write('width=416' + '\\n')\n",
    "  f.write('height=416' + '\\n')\n",
    "  f.write('channels=3' + '\\n')\n",
    "  f.write('momentum=0.949' + '\\n')\n",
    "  f.write('decay=0.0005' + '\\n')\n",
    "  f.write('angle=0' + '\\n')\n",
    "  f.write('saturation = 1.5' + '\\n')\n",
    "  f.write('exposure = 1.5' + '\\n')\n",
    "  f.write('hue = .1' + '\\n')\n",
    "  f.write('\\n')\n",
    "  f.write('learning_rate=0.001' + '\\n')\n",
    "  f.write('burn_in=1000' + '\\n')\n",
    "  ######you can adjust up and down to change training time#####\n",
    "  ##Darknet does iterations with batches, not epochs####\n",
    "  max_batches = num_classes*2000\n",
    "  #max_batches = 2000\n",
    "  f.write('max_batches=' + str(max_batches) + '\\n')\n",
    "  f.write('policy=steps' + '\\n')\n",
    "  steps1 = .8 * max_batches\n",
    "  steps2 = .9 * max_batches\n",
    "  f.write('steps='+str(steps1)+','+str(steps2) + '\\n')\n",
    "\n",
    "#Instructions from the darknet repo\n",
    "#change line classes=80 to your number of objects in each of 3 [yolo]-layers:\n",
    "#change [filters=255] to filters=(classes + 5)x3 in the 3 [convolutional] before each [yolo] layer, keep in mind that it only has to be the last [convolutional] before each of the [yolo] layers.\n",
    "\n",
    "  with open('/content/drive/My Drive/Colab Notebooks/darknet/cfg/yolov4-custom2.cfg', 'r') as f2:\n",
    "    content = f2.readlines()\n",
    "    for line in content:\n",
    "      f.write(line)    \n",
    "    num_filters = (num_classes + 5) * 3\n",
    "    f.write('filters='+str(num_filters) + '\\n')\n",
    "    f.write('activation=linear')\n",
    "    f.write('\\n')\n",
    "    f.write('\\n')\n",
    "    f.write('[yolo]' + '\\n')\n",
    "    f.write('mask = 0,1,2' + '\\n')\n",
    "    f.write('anchors = 12, 16, 19, 36, 40, 28, 36, 75, 76, 55, 72, 146, 142, 110, 192, 243, 459, 401' + '\\n')\n",
    "    f.write('classes=' + str(num_classes) + '\\n')\n",
    "\n",
    "  with open('/content/drive/My Drive/Colab Notebooks/darknet/cfg/yolov4-custom3.cfg', 'r') as f3:\n",
    "    content = f3.readlines()\n",
    "    for line in content:\n",
    "      f.write(line)    \n",
    "    num_filters = (num_classes + 5) * 3\n",
    "    f.write('filters='+str(num_filters) + '\\n')\n",
    "    f.write('activation=linear')\n",
    "    f.write('\\n')\n",
    "    f.write('\\n')\n",
    "    f.write('[yolo]' + '\\n')\n",
    "    f.write('mask = 3,4,5' + '\\n')\n",
    "    f.write('anchors = 12, 16, 19, 36, 40, 28, 36, 75, 76, 55, 72, 146, 142, 110, 192, 243, 459, 401' + '\\n')\n",
    "    f.write('classes=' + str(num_classes) + '\\n')\n",
    "\n",
    "  with open('/content/drive/My Drive/Colab Notebooks/darknet/cfg/yolov4-custom4.cfg', 'r') as f4:\n",
    "    content = f4.readlines()\n",
    "    for line in content:\n",
    "      f.write(line)    \n",
    "    num_filters = (num_classes + 5) * 3\n",
    "    f.write('filters='+str(num_filters) + '\\n')\n",
    "    f.write('activation=linear')\n",
    "    f.write('\\n')\n",
    "    f.write('\\n')\n",
    "    f.write('[yolo]' + '\\n')\n",
    "    f.write('mask = 6,7,8' + '\\n')\n",
    "    f.write('anchors = 12, 16, 19, 36, 40, 28, 36, 75, 76, 55, 72, 146, 142, 110, 192, 243, 459, 401' + '\\n')\n",
    "    f.write('classes=' + str(num_classes) + '\\n')\n",
    "    \n",
    "  with open('/content/drive/My Drive/Colab Notebooks/darknet/cfg/yolov4-custom5.cfg', 'r') as f5:\n",
    "    content = f5.readlines()\n",
    "    for line in content:\n",
    "      f.write(line)\n",
    "\n",
    "print(\"file is written!\")    \n",
    "\n",
    "\n"
   ]
  },
  {
   "cell_type": "code",
   "execution_count": null,
   "metadata": {
    "colab": {
     "base_uri": "https://localhost:8080/",
     "height": 1000
    },
    "id": "i2ekLgDNYHxj",
    "outputId": "a35ec534-f0f9-4d06-bbfc-46a9fb75479f"
   },
   "outputs": [],
   "source": [
    "!./darknet detector train build/darknet/x64/data/obj_exp.data cfg/custom-yolov4-detector.cfg yolov4.conv.137 -dont_show -map"
   ]
  },
  {
   "cell_type": "code",
   "execution_count": null,
   "metadata": {
    "colab": {
     "base_uri": "https://localhost:8080/",
     "height": 816
    },
    "executionInfo": {
     "elapsed": 644,
     "status": "ok",
     "timestamp": 1602970169514,
     "user": {
      "displayName": "Niharika Kumari",
      "photoUrl": "https://lh3.googleusercontent.com/a-/AOh14GhGKFyRx4JuQeSveXihkzzzgDm9n5SOaeJM4-kk=s64",
      "userId": "05327291576486046575"
     },
     "user_tz": -120
    },
    "id": "0sPTC2y8YH0h",
    "outputId": "389f6f01-332a-4f01-deb2-87399061d70f"
   },
   "outputs": [],
   "source": [
    "import os,glob\n",
    "import glob\n",
    "import os\n",
    "\n",
    "os.chdir(r\"/content/drive/My Drive/Colab Notebooks/darknet/build/darknet/x64/data/project2_data/final_img/\")\n",
    "myFiles = glob.glob('*.png')\n",
    "#print(myFiles)\n",
    "#path=\"/content/drive/My Drive/Colab Notebooks/darknet/build/darknet/x64/data/obj\"  \n",
    "#dirList=os.listdir(path)\n",
    "#f = open(\"/content/drive/My Drive/Colab Notebooks/darknet/build/darknet/x64/data/obj/output1.txt\", \"w\")\n",
    "with open(\"/content/drive/My Drive/Colab Notebooks/darknet/build/darknet/x64/data/project2_data/output2.txt\", \"w\") as f: \n",
    "    for filename in myFiles:\n",
    "        if filename.split('.')[-1]=='png':\n",
    "            print(filename)\n",
    "            f.write('./build/darknet/x64/data/project2_data/final_img/'+filename+'\\n') \n",
    "f.close()"
   ]
  },
  {
   "cell_type": "code",
   "execution_count": null,
   "metadata": {
    "colab": {
     "base_uri": "https://localhost:8080/",
     "height": 391
    },
    "executionInfo": {
     "elapsed": 1202,
     "status": "ok",
     "timestamp": 1602974916951,
     "user": {
      "displayName": "Niharika Kumari",
      "photoUrl": "https://lh3.googleusercontent.com/a-/AOh14GhGKFyRx4JuQeSveXihkzzzgDm9n5SOaeJM4-kk=s64",
      "userId": "05327291576486046575"
     },
     "user_tz": -120
    },
    "id": "orXK3QilYH5T",
    "outputId": "6659afb6-5fee-4ef2-e8d8-21e0104e1608"
   },
   "outputs": [],
   "source": [
    "!./darknet detector calc_anchors build/darknet/x64/data/obj_exp.data -num_of_clusters 9 -width 52 -height 52 -show"
   ]
  },
  {
   "cell_type": "code",
   "execution_count": null,
   "metadata": {
    "colab": {
     "base_uri": "https://localhost:8080/"
    },
    "executionInfo": {
     "elapsed": 689811,
     "status": "ok",
     "timestamp": 1613959459465,
     "user": {
      "displayName": "Niharika Kumari",
      "photoUrl": "https://lh3.googleusercontent.com/a-/AOh14GhGKFyRx4JuQeSveXihkzzzgDm9n5SOaeJM4-kk=s64",
      "userId": "05327291576486046575"
     },
     "user_tz": -60
    },
    "id": "lAp-1P3KYHpD",
    "outputId": "7b30039c-c209-43a5-db8d-1a6831d17ce3"
   },
   "outputs": [],
   "source": [
    "!./darknet detector demo build/darknet/x64/data/obj_exp.data cfg/custom-yolov4-detector.cfg build/darknet/x64/backup/custom-yolov4-detector_best.weights -thresh 0.50 -dont_show build/darknet/x64/Videos/P46_Experiment1_FullRes.mp4 -out_filename res.avi\n"
   ]
  },
  {
   "cell_type": "code",
   "execution_count": null,
   "metadata": {
    "id": "4hDtmyTUYHhE"
   },
   "outputs": [],
   "source": []
  }
 ],
 "metadata": {
  "accelerator": "GPU",
  "colab": {
   "authorship_tag": "ABX9TyMZmheRWBSZ7YKehO//cn+z",
   "mount_file_id": "14tS4-VE2KqnCjGWyNlrB70NZmaWKPtnx",
   "name": "Yolo4_real.ipynb",
   "provenance": []
  },
  "kernelspec": {
   "display_name": "Python 3",
   "language": "python",
   "name": "python3"
  },
  "language_info": {
   "codemirror_mode": {
    "name": "ipython",
    "version": 3
   },
   "file_extension": ".py",
   "mimetype": "text/x-python",
   "name": "python",
   "nbconvert_exporter": "python",
   "pygments_lexer": "ipython3",
   "version": "3.7.3"
  }
 },
 "nbformat": 4,
 "nbformat_minor": 1
}
