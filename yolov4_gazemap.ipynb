{
 "cells": [
  {
   "cell_type": "code",
   "execution_count": null,
   "metadata": {},
   "outputs": [],
   "source": [
    "import json\n",
    "import pandas as pd\n",
    "import numpy as np\n",
    "import math\n",
    "import csv"
   ]
  },
  {
   "cell_type": "code",
   "execution_count": null,
   "metadata": {},
   "outputs": [],
   "source": [
    "key=['power_supply',\n",
    "'paper',\n",
    "'lense',\n",
    "'arrow',\n",
    "'light',\n",
    "'slider',\n",
    "'pen',\n",
    "'text',\n",
    "'picture',\n",
    "'graph',\n",
    "'A2',\n",
    "'A3',\n",
    "'A4',\n",
    "'A5',\n",
    "'hand']"
   ]
  },
  {
   "cell_type": "code",
   "execution_count": null,
   "metadata": {},
   "outputs": [],
   "source": [
    "with open('yolov4_0_26/p26_1920.txt','r') as f:\n",
    "    raw_data = f.readlines()\n",
    "  "
   ]
  },
  {
   "cell_type": "code",
   "execution_count": null,
   "metadata": {},
   "outputs": [],
   "source": [
    "#print(raw_data[:5])"
   ]
  },
  {
   "cell_type": "code",
   "execution_count": null,
   "metadata": {
    "scrolled": true
   },
   "outputs": [],
   "source": [
    "def gen_dict(data):\n",
    "    frame={}\n",
    "    count=0\n",
    "    d={}\n",
    "    for i in range(len(data)):\n",
    "        if 'Next' in data[i]:\n",
    "            frame[count]=d\n",
    "            d={}\n",
    "            count=count+1\n",
    "            continue\n",
    "        else:\n",
    "            #for k in key:\n",
    "            dictt=[]\n",
    "            splittext= data[i].split(' ')\n",
    "            #print(splittext)\n",
    "            for text in range(len(splittext)):\n",
    "                if splittext[text] in key:\n",
    "                    dictt.append(text)\n",
    "            print(dictt)\n",
    "            for index in range(len(dictt)):\n",
    "                start = dictt[index]\n",
    "                print(start)\n",
    "                if len(dictt)>1:\n",
    "                    if index==len(dictt)-1:\n",
    "                        d[data[i].split(' ')[start]]=[data[i].split(' ')[start+1:]]\n",
    "                    else:\n",
    "                        end=dictt[index+1]-1\n",
    "                        d[data[i].split(' ')[start]]=[data[i].split(' ')[start+1:end+1]]\n",
    "                    #print(end)\n",
    "\n",
    "                else:\n",
    "                    if data[i].split(' ')[start] in d:\n",
    "                        ap=float(d[data[i].split(' ')[start]][0][0][:-1])\n",
    "                        now=float(data[i].split(' ')[start+1][:-1])\n",
    "                        if ap<now:\n",
    "                            d[data[i].split(' ')[start]] = [data[i].split(' ')[start+1:]]\n",
    "                    else:\n",
    "                        d[data[i].split(' ')[start]] = [data[i].split(' ')[start+1:]]\n",
    "        #print(d)\n",
    "                        \n",
    "    return frame\n",
    "\n",
    "\n",
    "                                                 \n",
    "            \n",
    "            \n",
    "   \n",
    "    "
   ]
  },
  {
   "cell_type": "code",
   "execution_count": null,
   "metadata": {},
   "outputs": [],
   "source": [
    "frame = gen_dict(raw_data)"
   ]
  },
  {
   "cell_type": "code",
   "execution_count": null,
   "metadata": {},
   "outputs": [],
   "source": [
    "frame"
   ]
  },
  {
   "cell_type": "code",
   "execution_count": null,
   "metadata": {},
   "outputs": [],
   "source": [
    "#increase the width of text box\n",
    "for i in range(0,len(frame),1):\n",
    "    for key,item in frame[i].items():\n",
    "        if key in ['A2','A3','A4','A5'] and len(item[0])>1:\n",
    "            #print(key)\n",
    "            left = int(item[0][1])\n",
    "            right =int(item[0][2])\n",
    "            #print(right-left)\n",
    "            if (right-left)<20:\n",
    "                frame[i][key] = [[item[0][0],item[0][1],str(int(item[0][2])+80),item[0][3],str(int(item[0][4])+20)]]\n",
    "                #print(key,i,right-left)\n",
    "                \n",
    "            \n",
    "            \n",
    "            \n"
   ]
  },
  {
   "cell_type": "code",
   "execution_count": null,
   "metadata": {},
   "outputs": [],
   "source": [
    "eyedata = pd.read_excel('AuGe_Experiment1_P26.xlsx')"
   ]
  },
  {
   "cell_type": "code",
   "execution_count": null,
   "metadata": {},
   "outputs": [],
   "source": [
    "eyedata.head()"
   ]
  },
  {
   "cell_type": "code",
   "execution_count": null,
   "metadata": {},
   "outputs": [],
   "source": [
    "len(eyedata)"
   ]
  },
  {
   "cell_type": "code",
   "execution_count": null,
   "metadata": {},
   "outputs": [],
   "source": [
    "eyedata.iloc[118]"
   ]
  },
  {
   "cell_type": "code",
   "execution_count": null,
   "metadata": {},
   "outputs": [],
   "source": [
    "df1 = eyedata[eyedata.index % 2 != 0] \n"
   ]
  },
  {
   "cell_type": "code",
   "execution_count": null,
   "metadata": {},
   "outputs": [],
   "source": [
    "#df1 = df1[df1.index % 2 != 0]"
   ]
  },
  {
   "cell_type": "code",
   "execution_count": null,
   "metadata": {},
   "outputs": [],
   "source": [
    "df1.head(10)"
   ]
  },
  {
   "cell_type": "code",
   "execution_count": null,
   "metadata": {},
   "outputs": [],
   "source": [
    "#download frames of a video\n",
    "import cv2\n",
    "vidcap = cv2.VideoCapture('/media/niharika/Elements/videos/P26_Experiment1_FullRes.mp4')\n",
    "success,image = vidcap.read()\n",
    "count = 0\n",
    "while success:\n",
    "  cv2.imwrite(\"/media/niharika/Elements/videos/Frames/frame%d.jpg\" % count, image)     # save frame as JPEG file      \n",
    "  success,image = vidcap.read()\n",
    "  #print('Read a new frame: ', success)\n",
    "  count += 1"
   ]
  },
  {
   "cell_type": "code",
   "execution_count": null,
   "metadata": {},
   "outputs": [],
   "source": []
  },
  {
   "cell_type": "code",
   "execution_count": null,
   "metadata": {},
   "outputs": [],
   "source": [
    "ground_truth = {}"
   ]
  },
  {
   "cell_type": "code",
   "execution_count": null,
   "metadata": {},
   "outputs": [],
   "source": [
    "import csv\n",
    "gt = []\n",
    "with open('/media/niharika/Elements1/videos/Videos/ground_truth/5376_6210.csv') as csv_file:\n",
    "    csv_reader = csv.reader(csv_file, delimiter=',')\n",
    "    line_count = 0\n",
    "    for row in csv_reader:\n",
    "        gt.append(row)\n",
    "        print(row)\n",
    "        line_count += 1\n",
    "    print(f'Processed {line_count} lines.')"
   ]
  },
  {
   "cell_type": "code",
   "execution_count": null,
   "metadata": {},
   "outputs": [],
   "source": [
    "gt2 = [list(filter(None, lst)) for lst in gt]"
   ]
  },
  {
   "cell_type": "code",
   "execution_count": null,
   "metadata": {},
   "outputs": [],
   "source": [
    "gt2 = [x for x in gt2 if x != []]\n"
   ]
  },
  {
   "cell_type": "code",
   "execution_count": null,
   "metadata": {},
   "outputs": [],
   "source": [
    "round(1920/426)"
   ]
  },
  {
   "cell_type": "code",
   "execution_count": null,
   "metadata": {},
   "outputs": [],
   "source": [
    "mc =5375\n",
    "\n",
    "for j in range(len(gt2)):\n",
    "    r = gt2[j][2:]\n",
    "    print(r)\n",
    "    keyy={}\n",
    "    itemm =[]\n",
    "    for i in range(len(r)):\n",
    "        if (i+1)%5==0:\n",
    "            keyy[r[i]]=itemm\n",
    "            itemm=[]\n",
    "        else:\n",
    "            itemm.append(r[i])\n",
    "    mc = mc+1        \n",
    "    ground_truth[mc]=keyy"
   ]
  },
  {
   "cell_type": "code",
   "execution_count": null,
   "metadata": {},
   "outputs": [],
   "source": [
    "ground_truth"
   ]
  },
  {
   "cell_type": "code",
   "execution_count": null,
   "metadata": {},
   "outputs": [],
   "source": [
    "import numpy as np\n",
    "import cv2\n",
    "for i in range(0,9000,1):\n",
    "    #f = i+1706\n",
    "    img = cv2.imread('/media/niharika/Elements/videos/26_framesfullv/frame%i.jpg'%i)\n",
    "    #print(img.shape)\n",
    "    for key,item in updated_frame[str(i)].items():\n",
    "        print(key,item)\n",
    "        if len(item[0])>1:\n",
    "            x = int(item[0][1])\n",
    "            y = int(item[0][2])\n",
    "            w = int(item[0][3])\n",
    "            h = int(item[0][4])\n",
    "            #percentage = float(item[0].rstrip('%'))*0.01\n",
    "            #text='%s%i'%str(key)%left\n",
    "            #print(text)\n",
    "            #left = int((x-w/2))\n",
    "            #right = int((x+w/2))\n",
    "            #top = int((y-h/2))\n",
    "            #bottom = int((y+h/2))\n",
    "            #print((left,top), (right,bottom))\n",
    "            \n",
    "            cv2.rectangle(img, (x,w),(y,h), (0, 255, 0), 5)\n",
    "    cv2.imwrite('/media/niharika/Elements/videos/26_frames_detectedyolov4/frames%i.jpg'%i, img)    "
   ]
  },
  {
   "cell_type": "code",
   "execution_count": null,
   "metadata": {
    "scrolled": true
   },
   "outputs": [],
   "source": [
    "for i in range(5376,6210,1):\n",
    "    file1 = open(\"mAP/input/detection-results/frame%i.txt\"%i,\"a\")#append mode \n",
    "    for key,item in updated_frame[str(i)].items():\n",
    "        print(key,item)\n",
    "        if len(item[0])>1:\n",
    "            top = int(item[0][3])\n",
    "            left = int(item[0][1])\n",
    "            bottom = int(item[0][4])\n",
    "            right = int(item[0][2])\n",
    "            percentage = float(item[0][0].rstrip('%'))*0.01\n",
    "            #text='%s%i'%str(key)%left\n",
    "            #print(text)\n",
    "        \n",
    "            file1.write(\"%s %f %i %i %i %i\\n\" %(str(key),percentage,left,top,right,bottom))\n",
    "        #file1.write('\\n') \n",
    "    file1.close() \n",
    "    "
   ]
  },
  {
   "cell_type": "code",
   "execution_count": null,
   "metadata": {},
   "outputs": [],
   "source": [
    "for i in range(5376,6210,1):\n",
    "    file1 = open(\"mAP/input/ground-truth/frame%i.txt\"%i,\"a\")#append mode \n",
    "    for key,item in ground_truth[i].items():\n",
    "        print(key,item)\n",
    "        x = int(item[0])\n",
    "        y = int(item[1])\n",
    "        w = int(item[2])\n",
    "        h = int(item[3])\n",
    "        #percentage = float(item[0].rstrip('%'))*0.01\n",
    "        #text='%s%i'%str(key)%left\n",
    "        #print(text)\n",
    "        bottom = y+h\n",
    "        right = x+w\n",
    "        text = key\n",
    "        if  text[:2]=='A2' or text[:2]=='A3' or text[:2]=='A4':\n",
    "            key = text[0:2]\n",
    "        else:\n",
    "            key = ''.join([i for i in text if not i.isdigit()])\n",
    "        if key=='power supply':\n",
    "            key='power_supply'\n",
    "        file1.write(\"%s %i %i %i %i\\n\" %(str(key),x,y,right,bottom))\n",
    "        #file1.write('\\n') \n",
    "    file1.close() \n",
    "    "
   ]
  },
  {
   "cell_type": "code",
   "execution_count": null,
   "metadata": {},
   "outputs": [],
   "source": [
    "ground_truth\n"
   ]
  },
  {
   "cell_type": "markdown",
   "metadata": {},
   "source": [
    "# check blur"
   ]
  },
  {
   "cell_type": "code",
   "execution_count": null,
   "metadata": {
    "scrolled": false
   },
   "outputs": [],
   "source": [
    "from imutils import paths\n",
    "import argparse\n",
    "import cv2\n",
    "\n",
    "def variance_of_laplacian(image):\n",
    "    # compute the Laplacian of the image and then return the focus\n",
    "    # measure, which is simply the variance of the Laplacian\n",
    "    return cv2.Laplacian(image, cv2.CV_64F).var()\n",
    "\n",
    "def check_blur(img,thresh):\n",
    "    image = cv2.imread(img)\n",
    "    gray = cv2.cvtColor(image, cv2.COLOR_BGR2GRAY)\n",
    "    fm = variance_of_laplacian(gray)\n",
    "    #print(img,fm)\n",
    "    if fm < thresh:\n",
    "        return 0\n",
    "    else:\n",
    "        return 1\n",
    "        \n",
    "#check_blur('26_test_frames/frame7.jpg',6)\n",
    "# for i in range(0,200,1):\n",
    "#     check_blur('26_test_frames/frame%i.jpg'%i,6)"
   ]
  },
  {
   "cell_type": "code",
   "execution_count": null,
   "metadata": {},
   "outputs": [],
   "source": [
    "for f in range(5,10983,1):\n",
    "    #print(f)\n",
    "    image = '/media/niharika/Elements/videos/26_result/result%i.jpg'%f\n",
    "    #print(image)\n",
    "    try:\n",
    "        b = check_blur(image,5)\n",
    "    except:\n",
    "        print('error')\n",
    "    if b== 0:\n",
    "        print(image)\n",
    "        print('blur')"
   ]
  },
  {
   "cell_type": "markdown",
   "metadata": {},
   "source": [
    "# OPTICAL FLOW"
   ]
  },
  {
   "cell_type": "code",
   "execution_count": null,
   "metadata": {},
   "outputs": [],
   "source": [
    "import numpy as np\n",
    "import cv2\n",
    "\n",
    "def get_flow(old,new):\n",
    "    try:\n",
    "        # params for ShiTomasi corner detection\n",
    "        feature_params = dict( maxCorners = 100,\n",
    "                               qualityLevel = 0.3,\n",
    "                               minDistance = 7,\n",
    "                               blockSize = 7 )\n",
    "\n",
    "        # Parameters for lucas kanade optical flow\n",
    "        lk_params = dict( winSize  = (15,15),\n",
    "                          maxLevel = 2,\n",
    "                          criteria = (cv2.TERM_CRITERIA_EPS | cv2.TERM_CRITERIA_COUNT, 10, 0.03))\n",
    "\n",
    "        # Create some random colors\n",
    "        color = np.random.randint(0,255,(100,3))\n",
    "\n",
    "        # Take first frame and find corners in it\n",
    "        old_frame = cv2.imread(old)\n",
    "        old_gray = cv2.cvtColor(old_frame, cv2.COLOR_BGR2GRAY)\n",
    "        p0 = cv2.goodFeaturesToTrack(old_gray, mask = None, **feature_params)\n",
    "\n",
    "        # Create a mask image for drawing purposes\n",
    "        mask = np.zeros_like(old_frame)\n",
    "        nframe = cv2.imread(new)\n",
    "        frame_gray = cv2.cvtColor(nframe, cv2.COLOR_BGR2GRAY)\n",
    "\n",
    "        p1, st, err = cv2.calcOpticalFlowPyrLK(old_gray, frame_gray, p0, None, **lk_params)\n",
    "        # Select good points\n",
    "        good_new = p1[st==1]\n",
    "        good_old = p0[st==1]\n",
    "        #print(good_new)\n",
    "\n",
    "        if len(good_new)==0 and len(good_old)==0:\n",
    "            #print('nothing here')\n",
    "            return 0,0\n",
    "        else:\n",
    "            # draw the tracks\n",
    "            for i,(new,old) in enumerate(zip(good_new,good_old)):\n",
    "                a,b = new.ravel()\n",
    "                c,d = old.ravel()\n",
    "                #print(a,b)\n",
    "                #print(c,d)\n",
    "                mask = cv2.line(mask, (a,b),(c,d), color[i].tolist(), 2)\n",
    "                nframe = cv2.circle(nframe,(a,b),5,color[i].tolist(),-1)\n",
    "            return [(c,d)],[(a,b)]\n",
    "            #img = cv2.add(frame,mask)\n",
    "\n",
    "            #cv2.imshow('frame',img)\n",
    "    except:\n",
    "        return 0,0\n",
    "\n",
    "\n",
    "\n"
   ]
  },
  {
   "cell_type": "code",
   "execution_count": null,
   "metadata": {},
   "outputs": [],
   "source": [
    "updated_frame=frame"
   ]
  },
  {
   "cell_type": "code",
   "execution_count": null,
   "metadata": {
    "scrolled": true
   },
   "outputs": [],
   "source": [
    "# divide frames into groups of 5\n",
    "def chunkIt(seq, num):\n",
    "    avg = len(seq) / float(num)\n",
    "    out = []\n",
    "    last = 0.0\n",
    "    #count=0\n",
    "    while last < len(seq):\n",
    "        out.append(seq[int(last):int(last + avg)])\n",
    "        last += avg\n",
    "        #count=count+1\n",
    "\n",
    "    return out\n",
    "\n",
    "def check_group(chunk):\n",
    "    group = list(chunk)\n",
    "    flag = True\n",
    "    for f in group:\n",
    "        #print(f)\n",
    "        image = '/media/niharika/Elements/videos/Frames/frame%i.jpg'%f\n",
    "        print(image)\n",
    "        b = check_blur(image,5)\n",
    "        if b == 0:\n",
    "            flag = False\n",
    "            break\n",
    "    #if flag == True:\n",
    "    return flag\n",
    "    \n",
    "def get_keys(chunk):\n",
    "    group = list(chunk)\n",
    "    keys = []\n",
    "    for f in group:\n",
    "        keys.append(len(list(frame[f].keys())))\n",
    "    return keys.index(max(keys))\n",
    "    \n",
    "    \n",
    "    \n",
    "    \n",
    "updated_frame= dict(frame)   \n",
    "chunk = chunkIt(range(len(updated_frame)), int(len(updated_frame)/5))  \n",
    "#print(chunk)\n",
    "#print(len(chunk))\n",
    "for ch in range(0,len(chunk),1):\n",
    "    print('New chunk---------------------------------------------------------------')\n",
    "    print(list(chunk[ch]))\n",
    "    b = check_group(chunk[ch])\n",
    "    if b == True:\n",
    "        max_index = get_keys(chunk[ch])\n",
    "        group = list(chunk[ch])\n",
    "        #print(max_index)\n",
    "        best_frame = group[max_index]\n",
    "        old_frame = '/media/niharika/Elements/videos/Frames/frame%i.jpg'%best_frame\n",
    "        del group[max_index]\n",
    "        newframelist = group\n",
    "        for index in newframelist:\n",
    "            print(index)\n",
    "            nframe = '/media/niharika/Elements/videos/Frames/frame%i.jpg'%index\n",
    "            if index< best_frame:\n",
    "                old_p,new_p = get_flow(nframe,old_frame)\n",
    "                #print(old_p,new_p)\n",
    "                if old_p == 0:\n",
    "                    break\n",
    "                else:\n",
    "                    distx =  old_p[0][0]-new_p[0][0]\n",
    "                    disty =  old_p[0][1]-new_p[0][1]\n",
    "                    new_key = list(updated_frame[index].keys())\n",
    "                    for key,item in frame[best_frame].items():\n",
    "                            #print(key,new_key)\n",
    "                            if key not in new_key and len(item[0])>1 and not key=='hand':\n",
    "                                #print(f)\n",
    "                                #print(item)\n",
    "                                print('updating ',key)\n",
    "                                updated_frame[index].update({key:[[item[0][0],str(int(float(item[0][1])-distx)),str(int(float(item[0][2])-distx)),str(int(float(item[0][3])-disty)),str(int(float(item[0][4])-disty))]]})\n",
    "\n",
    "            else:\n",
    "                old_p,new_p = get_flow(old_frame,nframe)\n",
    "                if old_p ==0:\n",
    "                    break\n",
    "                else:\n",
    "                    distx = new_p[0][0] - old_p[0][0]\n",
    "                    disty = new_p[0][1] - old_p[0][1]\n",
    "                    new_key = list(updated_frame[index].keys())\n",
    "                    for key,item in frame[best_frame].items():\n",
    "                            #print(key,new_key)\n",
    "                            if key not in new_key and len(item[0])>1 and not key=='hand':\n",
    "                                #print(f)\n",
    "                                #print(item)\n",
    "                                print('updating ',key)\n",
    "                                updated_frame[index].update({key:[[item[0][0],str(int(float(item[0][1])+distx)),str(int(float(item[0][2])+distx)),str(int(float(item[0][3])+disty)),str(int(float(item[0][4])+disty))]]})\n",
    "\n",
    "\n"
   ]
  },
  {
   "cell_type": "code",
   "execution_count": null,
   "metadata": {},
   "outputs": [],
   "source": [
    "updated_frame"
   ]
  },
  {
   "cell_type": "code",
   "execution_count": null,
   "metadata": {},
   "outputs": [],
   "source": [
    "import json\n",
    "\n",
    "with open('/home/niharika/Downloads/Videos/fullresolution26yolov4.json', 'w') as fp:\n",
    "    json.dump(updated_frame, fp)\n",
    "    \n",
    "    "
   ]
  },
  {
   "cell_type": "code",
   "execution_count": null,
   "metadata": {},
   "outputs": [],
   "source": [
    "import json\n",
    "updated_frame = {}\n",
    "with open('/home/niharika/Downloads/Videos/fullresolution26yolov4.json', 'r') as fp:\n",
    "    updated_frame = json.load(fp)"
   ]
  },
  {
   "cell_type": "code",
   "execution_count": null,
   "metadata": {},
   "outputs": [],
   "source": [
    "data"
   ]
  },
  {
   "cell_type": "code",
   "execution_count": null,
   "metadata": {},
   "outputs": [],
   "source": [
    "def calculate_dist(px,py,top,bottom,left,right):\n",
    "#     dx = abs(px - x) - width / 2\n",
    "#     dy = abs(py - y) - height / 2\n",
    "    dx= max(left - px, 0, px - right)\n",
    "    dy = max(top - py, 0, py - bottom);\n",
    "    return math.sqrt(dx * dx + dy * dy)"
   ]
  },
  {
   "cell_type": "code",
   "execution_count": null,
   "metadata": {},
   "outputs": [],
   "source": [
    "\n",
    "\n",
    "gaze={}\n",
    "for i in range(len(df1)):\n",
    "    print(i)\n",
    "    gazeX = df1.iloc[i]['Gaze point X']\n",
    "    #gazeX = (1080/1920)*gazeX  \n",
    "    #gazeX = (426/1920)*gazeX \n",
    "    #gazeX = (1680/1920)*gazeX\n",
    "    gazeY = df1.iloc[i]['Gaze point Y']\n",
    "    #gazeY = (608/1080)*gazeY\n",
    "    #gazeY = (240/1080)*gazeY\n",
    "    #gazeY = (944/1080)*gazeY\n",
    "    print(gazeX,gazeY)\n",
    "    if np.isnan(gazeX):\n",
    "        #print('no gaze data')\n",
    "        gaze[i]='Gaze Missing'\n",
    "        continue\n",
    "    if updated_frame[i]=={}:\n",
    "        gaze[i]='No Box'\n",
    "        continue\n",
    "    else:\n",
    "        gaze[i]=[]\n",
    "        flag=False\n",
    "        for key in updated_frame[i]:\n",
    "            #print(key)\n",
    "            for points in updated_frame[i][key]:\n",
    "                if len(points)==1:\n",
    "                    break\n",
    "                #print(points)\n",
    "                #coord = points.split(' ')\n",
    "                top = float(points[3])\n",
    "                left = float(points[1])\n",
    "                bottom = float(points[4])\n",
    "                right = float(points[2])\n",
    "                #d=calculate_dist(gazeX,gazeY,left,right,top,bottom)\n",
    "                #print(key,d)\n",
    "#                 if i==19183 and key=='arrow':\n",
    "#                     print(top,bottom,left,right)\n",
    "#                     print(gazeX,gazeY)\n",
    "                #print('ok')\n",
    "                if (gazeY<=bottom and gazeY>=top) and (gazeX<=right and gazeX>=left) :\n",
    "                    print('detected',key)\n",
    "                    flag=True\n",
    "                    gaze[i].append(key)\n",
    "                    #break\n",
    "            \n",
    "        if flag==False:\n",
    "            gaze[i]='Others'\n",
    "            \n",
    "            \n",
    "            \n",
    "        \n",
    "        \n",
    "\n",
    "\n",
    "    \n",
    "    \n",
    "    \n",
    "        \n",
    "    "
   ]
  },
  {
   "cell_type": "code",
   "execution_count": null,
   "metadata": {},
   "outputs": [],
   "source": [
    "gaze"
   ]
  },
  {
   "cell_type": "code",
   "execution_count": null,
   "metadata": {},
   "outputs": [],
   "source": [
    "#keep onöy unique items in an all lists\n",
    "import pandas as pd\n",
    "\n",
    "(pd.DataFrame.from_dict(data=gaze, orient='index')\n",
    "   .to_csv('Yolov4_gaze/p26_yolov4_.csv', header=False))"
   ]
  },
  {
   "cell_type": "code",
   "execution_count": null,
   "metadata": {},
   "outputs": [],
   "source": [
    "my_dict = gaze\n",
    "with open('elekrik.csv', 'w') as f:\n",
    "    for key,item in my_dict.items():\n",
    "        f.write(\"%s,%s\\n\"%(key,my_dict[key]))   "
   ]
  },
  {
   "cell_type": "code",
   "execution_count": null,
   "metadata": {},
   "outputs": [],
   "source": [
    "c=0\n",
    "for key,item in gaze.items():\n",
    "    #print(key)\n",
    "    if item=='Others':\n",
    "        c=c+1\n",
    "        \n",
    "c"
   ]
  },
  {
   "cell_type": "code",
   "execution_count": null,
   "metadata": {},
   "outputs": [],
   "source": [
    "new_frame={}"
   ]
  },
  {
   "cell_type": "code",
   "execution_count": null,
   "metadata": {},
   "outputs": [],
   "source": [
    "new_frame = dict(frame)"
   ]
  },
  {
   "cell_type": "code",
   "execution_count": null,
   "metadata": {},
   "outputs": [],
   "source": [
    "frame[6],frame[7]"
   ]
  },
  {
   "cell_type": "code",
   "execution_count": null,
   "metadata": {},
   "outputs": [],
   "source": [
    "new_frame[25]"
   ]
  },
  {
   "cell_type": "code",
   "execution_count": null,
   "metadata": {},
   "outputs": [],
   "source": [
    "import numpy as np\n",
    "import cv2\n",
    "for i in range(0,200,1):\n",
    "    img = cv2.imread('26_test_frames/frame%i.jpg'%i)\n",
    "    for key,item in updated_frame[i].items():\n",
    "        print(key,item[0])\n",
    "        if len(item[0])>1:\n",
    "            try:\n",
    "                cv2.rectangle(img, (int(item[0][1]),int(item[0][3])), (int(item[0][2]),int(item[0][4])), (0, 255, 0), 5)\n",
    "            except:   \n",
    "                cv2.rectangle(img, (int(float(item[0][1])),int(float(item[0][3]))), int((float(item[0][2])),int(float(item[0][4]))), (0, 255, 0), 5)\n",
    "    cv2.imwrite('26_newframe/frames%i.jpg'%i, img)    "
   ]
  },
  {
   "cell_type": "code",
   "execution_count": null,
   "metadata": {},
   "outputs": [],
   "source": [
    "#count number of frames\n",
    "#P26_Experiment1_Annotation.mp4\n",
    "\n",
    "import cv2\n",
    "\n",
    "cap = cv2.VideoCapture(\"/home/niharika/Downloads/Videos/P26_Experiment1_Annotation147.avi\")\n",
    "length = int(cap.get(cv2.CAP_PROP_FRAME_COUNT))\n",
    "print( length )"
   ]
  },
  {
   "cell_type": "code",
   "execution_count": null,
   "metadata": {},
   "outputs": [],
   "source": [
    "new_frame[6]"
   ]
  },
  {
   "cell_type": "code",
   "execution_count": null,
   "metadata": {},
   "outputs": [],
   "source": [
    "img = '26_test_frames/frame6.jpg'\n",
    "for key,item in new_frame[6].items():\n",
    "        print(key,item[0])\n",
    "        if len(item[0])>1:\n",
    "            cv2.rectangle(img, (int(item[0][1]),int(item[0][3])), (int(item[0][2]),int(item[0][4])), (0, 255, 0), 5)\n",
    "    cv2.imwrite('26_frametest_bb/frames%i.jpg'%i, img)   "
   ]
  },
  {
   "cell_type": "code",
   "execution_count": null,
   "metadata": {},
   "outputs": [],
   "source": [
    "import pandas as pd"
   ]
  },
  {
   "cell_type": "code",
   "execution_count": null,
   "metadata": {},
   "outputs": [],
   "source": [
    "key = ['A2','A3','A4','A5','hand','pen','picture','graph','text']"
   ]
  },
  {
   "cell_type": "code",
   "execution_count": null,
   "metadata": {},
   "outputs": [],
   "source": [
    "output = pd.read_excel('yolov4_0_26/AuGe_AOIHits_060720_.xlsx',sheet_name='AOI Hits')\n"
   ]
  },
  {
   "cell_type": "code",
   "execution_count": null,
   "metadata": {},
   "outputs": [],
   "source": [
    "len(output)"
   ]
  },
  {
   "cell_type": "code",
   "execution_count": null,
   "metadata": {},
   "outputs": [],
   "source": [
    "len(output[output['eval'] == 'TP'])\n"
   ]
  },
  {
   "cell_type": "code",
   "execution_count": null,
   "metadata": {},
   "outputs": [],
   "source": [
    "len(output[output['eval'] == 'TN'])"
   ]
  },
  {
   "cell_type": "code",
   "execution_count": null,
   "metadata": {},
   "outputs": [],
   "source": [
    "len(output[output['eval'] == 'FP'])"
   ]
  },
  {
   "cell_type": "code",
   "execution_count": null,
   "metadata": {},
   "outputs": [],
   "source": [
    "len(output[output['eval'] == 'FN'])"
   ]
  },
  {
   "cell_type": "code",
   "execution_count": null,
   "metadata": {},
   "outputs": [],
   "source": [
    "output[\"eval\"].isna().sum() "
   ]
  },
  {
   "cell_type": "code",
   "execution_count": null,
   "metadata": {},
   "outputs": [],
   "source": [
    "output = ouput[~pd.DataFrame(ouput.True_Gaze.tolist()).isin(key).any(1) | ~pd.DataFrame(ouput.Gaze_Estimated.tolist()).isin(key).any(1)]"
   ]
  },
  {
   "cell_type": "code",
   "execution_count": null,
   "metadata": {},
   "outputs": [],
   "source": [
    "output"
   ]
  },
  {
   "cell_type": "code",
   "execution_count": null,
   "metadata": {},
   "outputs": [],
   "source": [
    "output.loc[((output['Gaze_Estimated'].astype(str).str.contains(\"Others\")) |(output['Gaze_Estimated'].astype(str).str.contains(\"No Box\"))| (output['gaze2'].astype(str).str.contains(\"Others\")) | (output['gaze3'].astype(str).str.contains(\"Others\"))) & ((output['True_Gaze'] == 'Others') |(output['True_Gaze'] == 'others') ), 'eval'] = 'TN'  \n"
   ]
  },
  {
   "cell_type": "code",
   "execution_count": null,
   "metadata": {},
   "outputs": [],
   "source": [
    "output.loc[(output['Gaze_Estimated']=='No Box') & ((output['True_Gaze'] == 'Others') |(output['True_Gaze'] == 'others') ), 'eval'] = 'TN'  \n"
   ]
  },
  {
   "cell_type": "code",
   "execution_count": null,
   "metadata": {},
   "outputs": [],
   "source": [
    "output.loc[((~output['Gaze_Estimated'].astype(str).str.contains(\"Others\", na=False))& (~output['Gaze_Estimated'].astype(str).str.contains(\"No Box\", na=False)) & (~output['gaze2'].astype(str).str.contains(\"Others\", na=False)) & (~output['gaze3'].astype(str).str.contains(\"Others\", na=False))) & ((output['True_Gaze'] == 'Others') |(output['True_Gaze'] == 'others') ), 'eval'] = 'FP'"
   ]
  },
  {
   "cell_type": "code",
   "execution_count": null,
   "metadata": {},
   "outputs": [],
   "source": [
    "output.loc[((output['Gaze_Estimated']=='Others')|(output['Gaze_Estimated']=='No Box'))  & ((output['True_Gaze'] != 'Others') &(output['True_Gaze'] != 'others')), 'eval'] = 'FN' "
   ]
  },
  {
   "cell_type": "code",
   "execution_count": null,
   "metadata": {},
   "outputs": [],
   "source": [
    "def lists_overlap3(a, b):\n",
    "    return bool(set(a) & set(b))"
   ]
  },
  {
   "cell_type": "code",
   "execution_count": null,
   "metadata": {},
   "outputs": [],
   "source": [
    "for index,row in output.iterrows():\n",
    "    print()\n",
    "    list1 = []\n",
    "    a = str(row['Gaze_Estimated']).replace(']','').replace('[','').replace('\\'','').split(',')\n",
    "    b = str(row['gaze2']).replace(']','').replace('[','').replace('\\'','').split(',')\n",
    "    c = str(row['gaze3']).replace(']','').replace('[','').replace('\\'','').split(',')\n",
    "    list1 = a+b+c\n",
    "    list1 = [x.lower() for x in list1 if x != 'nan']\n",
    "    \n",
    "    d = str(row['True_Gaze']).replace(']','').replace('[','').replace('\\'','').split(',')\n",
    "   # e = str(row['Anmerkungen']).replace(']','').replace('[','').replace('\\'','').split(' ')\n",
    "    #f = str(row['Interaktion']).replace(']','').replace('[','').replace('\\'','').split(',')\n",
    "    list2 = d\n",
    "    list2 = [x.lower() for x in list2 if x != 'nan']\n",
    "    \n",
    "    list1 = [x.strip(' ') for x in list1]\n",
    "    list2 = [x.strip(' ') for x in list2]\n",
    "    \n",
    "    #list2 = list2.remove('nan')\n",
    "    #list1 = list1.remove('nan')\n",
    "    print(list1,list2)\n",
    "    \n",
    "    \n",
    "    \n",
    "    if 'power supply' in list2:\n",
    "        list2.append('power_supply')\n",
    "    if lists_overlap3(list1,list2) and pd.isnull(output.at[index, 'eval']):\n",
    "        print('match found')\n",
    "        output.at[index, 'eval'] = 'TP'\n",
    "        #ouput.iloc[index]['Anmerkungen']= 'TP'\n",
    "        #row['Anmerkungen'] = 'TP'\n",
    "    \n",
    "    #break"
   ]
  },
  {
   "cell_type": "code",
   "execution_count": null,
   "metadata": {},
   "outputs": [],
   "source": [
    "output.to_csv('yolov4_0_26/gaze_result26_yolov4_.csv')"
   ]
  },
  {
   "cell_type": "code",
   "execution_count": null,
   "metadata": {},
   "outputs": [],
   "source": []
  },
  {
   "cell_type": "code",
   "execution_count": null,
   "metadata": {},
   "outputs": [],
   "source": [
    "output = pd.read_csv('yolov4_0_26/gaze_result26_yolov4_.csv')"
   ]
  },
  {
   "cell_type": "code",
   "execution_count": null,
   "metadata": {},
   "outputs": [],
   "source": [
    "output.head(20)"
   ]
  },
  {
   "cell_type": "code",
   "execution_count": null,
   "metadata": {},
   "outputs": [],
   "source": [
    "output[output['eval'] == 'TP']"
   ]
  },
  {
   "cell_type": "code",
   "execution_count": null,
   "metadata": {},
   "outputs": [],
   "source": [
    "output['Gaze_Predicted'] = output['Gaze_Predicted'].astype(str)\n",
    "output['True_Gaze1'] = output['True_Gaze1'].astype(str)"
   ]
  },
  {
   "cell_type": "code",
   "execution_count": null,
   "metadata": {},
   "outputs": [],
   "source": [
    "for index,row in output.iterrows():\n",
    "    print()\n",
    "    list1 = []\n",
    "    a = str(row['Gaze_Estimated']).replace(']','').replace('[','').replace('\\'','').split(',')\n",
    "    b = str(row['gaze2']).replace(']','').replace('[','').replace('\\'','').split(',')\n",
    "    c = str(row['gaze3']).replace(']','').replace('[','').replace('\\'','').split(',')\n",
    "    list1 = a+b+c\n",
    "    list1 = [x.lower() for x in list1 if x != 'nan']\n",
    "    \n",
    "    d = str(row['True_Gaze']).replace(']','').replace('[','').replace('\\'','').split(',')\n",
    "   # e = str(row['Anmerkungen']).replace(']','').replace('[','').replace('\\'','').split(' ')\n",
    "    #f = str(row['Interaktion']).replace(']','').replace('[','').replace('\\'','').split(',')\n",
    "    list2 = d\n",
    "    list2 = [x.lower() for x in list2 if x != 'nan']\n",
    "    \n",
    "    list1 = [x.strip(' ') for x in list1]\n",
    "    list2 = [x.strip(' ') for x in list2]\n",
    "\n",
    "    \n",
    "    \n",
    "    if 'power supply' in list2:\n",
    "        list2.append('power_supply')\n",
    "        \n",
    "    if len(list1)==1 and 'no box' in list1:\n",
    "        list1.append('others')\n",
    "        \n",
    "    print(list1,list2)\n",
    "        \n",
    "        \n",
    "    list1_as_set = set(list1)\n",
    "    intersection = list1_as_set.intersection(list2)\n",
    "    #Find common elements of set and list\n",
    "\n",
    "    intersection_as_list = list(intersection)\n",
    "    print('common ',intersection_as_list)\n",
    "#     if len(intersection_as_list)>0:\n",
    "#         print('we have common')\n",
    "#         if len(intersection_as_list)==1:\n",
    "#             joined_string = intersection_as_list[0]\n",
    "#         else:\n",
    "#             joined_string = \",\".join(intersection_as_list)\n",
    "#         output.at[index, 'Gaze_Predicted'] = joined_string\n",
    "#         output.at[index, 'True_Gaze1'] = joined_string\n",
    "    if 1:\n",
    "        converted_list1 = [str(element) for element in list1]\n",
    "        converted_list2 = [str(element) for element in list2]\n",
    "\n",
    "        output.at[index, 'Gaze_Predicted'] = \",\".join(converted_list1)\n",
    "        output.at[index, 'True_Gaze1'] = \",\".join(converted_list2)\n",
    "        \n",
    "        \n",
    "        \n",
    "        \n",
    "#     if lists_overlap3(list1,list2) and pd.isnull(output.at[index, 'eval']):\n",
    "#         print('match found')\n",
    "#         output.at[index, 'eval'] = 'TP'\n",
    "\n",
    "    \n",
    "    #break"
   ]
  },
  {
   "cell_type": "code",
   "execution_count": null,
   "metadata": {},
   "outputs": [],
   "source": [
    "output.head(20)"
   ]
  },
  {
   "cell_type": "code",
   "execution_count": null,
   "metadata": {},
   "outputs": [],
   "source": [
    "output.to_csv('yolov4_0_26/gaze_result_yolov4_final_.csv')"
   ]
  },
  {
   "cell_type": "code",
   "execution_count": null,
   "metadata": {},
   "outputs": [],
   "source": [
    "from sklearn.metrics import confusion_matrix\n",
    "import pandas as pd\n",
    "import matplotlib.pyplot as plt\n",
    "%matplotlib inline\n",
    "\n",
    "output = pd.read_csv('gaze_result1.csv')\n",
    "labels = ['others','power_supply','arrow','light','slider','paper']\n",
    "print(labels)\n",
    "cm = confusion_matrix(output['True_Gaze1'], output['Gaze_Predicted'], labels)\n",
    "print(cm)\n",
    "fig = plt.figure()\n",
    "ax = fig.add_subplot(111)\n",
    "cax = ax.matshow(cm)\n",
    "plt.title('Confusion matrix of the classifier')\n",
    "fig.colorbar(cax)\n",
    "ax.set_xticklabels([''] + labels)\n",
    "ax.set_yticklabels([''] + labels)\n",
    "plt.xlabel('Predicted')\n",
    "plt.ylabel('True')\n",
    "plt.show()"
   ]
  },
  {
   "cell_type": "code",
   "execution_count": null,
   "metadata": {
    "scrolled": true
   },
   "outputs": [],
   "source": [
    "p = []\n",
    "g = []\n",
    "\n",
    "from sklearn.metrics import confusion_matrix\n",
    "import pandas as pd\n",
    "import matplotlib.pyplot as plt\n",
    "%matplotlib inline\n",
    "\n",
    "#output = pd.read_excel('xyz.xlsx')\n",
    "output= pd.read_csv('yolov4_0_26/gaze_result_yolov4_final_.csv')\n",
    "print(output.head)\n",
    "#output = pd.read_csv('result_all (withgraphpictext).csv')\n",
    "\n",
    "for index,row in output.iterrows():\n",
    "    print()\n",
    "    list1 = []\n",
    "    a = str(row['Gaze_Predicted']).replace(']','').replace('[','').replace('\\'','').split(',')\n",
    "   # b = str(row['gaze2']).replace(']','').replace('[','').replace('\\'','').split(',')\n",
    "    #c = str(row['gaze3']).replace(']','').replace('[','').replace('\\'','').split(',')\n",
    "    list1 = a\n",
    "    list1 = [x.lower() for x in list1 if x != 'nan']\n",
    "    \n",
    "    d = str(row['True_Gaze1']).replace(']','').replace('[','').replace('\\'','').split(',')\n",
    "   # e = str(row['Anmerkungen']).replace(']','').replace('[','').replace('\\'','').split(' ')\n",
    "    #f = str(row['Interaktion']).replace(']','').replace('[','').replace('\\'','').split(',')\n",
    "    list2 = d\n",
    "    list2 = [x.lower() for x in list2 if x != 'nan']\n",
    "    \n",
    "    list1 = [x.strip(' ') for x in list1]\n",
    "    list2 = [x.strip(' ') for x in list2]\n",
    "    \n",
    "    list1 = list(set(list1))\n",
    "    list2 = list(set(list2))\n",
    "    \n",
    "#     if 'pen' in list1:\n",
    "#         list1.remove('pen')\n",
    "#     if 'pen' in list2:\n",
    "#         list2.remove('pen')\n",
    "#     if 'hand' in list1:\n",
    "#         list1.remove('hand')\n",
    "#     if 'hand' in list1:\n",
    "#         list1.remove('hand')\n",
    "\n",
    "    \n",
    "    \n",
    "    if 'power supply' in list2:\n",
    "        list2.append('power_supply')\n",
    "        \n",
    "    if len(list1)==1 and 'no box' in list1:\n",
    "        list1.append('others')\n",
    "        \n",
    "    print(list1,list2)\n",
    "    \n",
    "    \n",
    "    if row['eval']=='TP' or row['eval']=='FP' or row['eval']=='TN':\n",
    "        if len(set(list1))==len(set(list2))==1:\n",
    "            print('1')\n",
    "            p.append(list1[0])\n",
    "            g.append(list2[0])\n",
    "        elif len(set(list1))==len(set(list2)):\n",
    "            print('2')\n",
    "            for x in range(len(set(list1))):\n",
    "                p.append(list(set(list1))[x])\n",
    "                g.append(list(set(list2))[x])\n",
    "                \n",
    "        else:\n",
    "            intersection = set(list1).intersection(list2)\n",
    "            print('check',intersection)\n",
    "            intersection1 = list(intersection)\n",
    "            for x in intersection1:\n",
    "                p.append(x)\n",
    "                g.append(x)\n",
    "                \n",
    "                \n",
    "            #print('check here')\n",
    "    \n",
    "    elif row['eval'] == 'FN':\n",
    "        for x in range(len(list2)):\n",
    "            p.append(list1[0])\n",
    "            g.append(list2[x])\n",
    "        \n",
    "    else:\n",
    "        if len(list1)==len(list2):\n",
    "            for x in range(len(list2)):\n",
    "                p.append(list(list1)[x])\n",
    "                g.append(list(list2)[x])\n",
    "        else:\n",
    "            if len(list1)>len(list2):\n",
    "                val = list2[0]\n",
    "                for l in range(len(list1)-1):\n",
    "                    list2.append(val)\n",
    "                print('checking-------------',list1,list2)\n",
    "                for x in range(len(list2)):\n",
    "                    p.append(list(list1)[x])\n",
    "                    g.append(list(list2)[x])\n",
    "\n",
    "            else:\n",
    "                print('5')\n",
    "                val = list1[0]\n",
    "                for l in range(len(list2)-1):\n",
    "                    list1.append(val)\n",
    "                print('checking-------------',list1,list2)\n",
    "                for x in range(len(list1)):\n",
    "                    p.append(list(list1)[x])\n",
    "                    g.append(list(list2)[x])\n",
    "                \n",
    "        \n",
    "            \n",
    "        "
   ]
  },
  {
   "cell_type": "code",
   "execution_count": null,
   "metadata": {},
   "outputs": [],
   "source": [
    "len(p),len(g)\n"
   ]
  },
  {
   "cell_type": "code",
   "execution_count": null,
   "metadata": {},
   "outputs": [],
   "source": [
    "#p=p[:-1]"
   ]
  },
  {
   "cell_type": "code",
   "execution_count": null,
   "metadata": {},
   "outputs": [],
   "source": [
    "len(p)"
   ]
  },
  {
   "cell_type": "code",
   "execution_count": null,
   "metadata": {},
   "outputs": [],
   "source": [
    "from sklearn.metrics import confusion_matrix\n",
    "import pandas as pd\n",
    "import matplotlib.pyplot as plt\n",
    "%matplotlib inline\n",
    "\n",
    "#output = pd.read_csv('gaze_result1.csv')\n",
    "labels = ['others', 'light', 'lense', 'paper', 'arrow', 'slider', 'power_supply']\n",
    "#print(list(set(p)))\n",
    "cm = confusion_matrix(g, p, labels)\n",
    "print(cm)\n",
    "fig = plt.figure()\n",
    "ax = fig.add_subplot(111)\n",
    "cax = ax.matshow(cm)\n",
    "plt.title('Confusion matrix of the classifier')\n",
    "#fig.colorbar(cax)\n",
    "ax.set_xticklabels([''] + labels)\n",
    "ax.set_yticklabels([''] + labels)\n",
    "plt.xlabel('Predicted')\n",
    "plt.ylabel('True')\n",
    "plt.show()"
   ]
  },
  {
   "cell_type": "code",
   "execution_count": null,
   "metadata": {},
   "outputs": [],
   "source": [
    "data = {'y_Actual':    g,\n",
    "        'y_Predicted': p\n",
    "        }\n",
    "#data = pd.read_csv('gaze_result_all.csv')\n",
    "df = pd.DataFrame(data, columns=['y_Actual','y_Predicted'])\n",
    "df.to_csv('yolov4_0_26/p26_yolov4_pq_.csv')"
   ]
  },
  {
   "cell_type": "code",
   "execution_count": null,
   "metadata": {},
   "outputs": [],
   "source": [
    "import pandas as pd\n",
    "import seaborn as sn\n",
    "import matplotlib.pyplot as plt\n",
    "\n",
    "data1 = pd.read_csv('yolov4_0_26/p26_yolov4_pq_.csv')\n",
    "#print(data1.head(5))\n",
    "\n",
    "\n",
    "#df = pd.DataFrame(data, columns=['y_Actual','y_Predicted'])\n",
    "confusion_matrix = pd.crosstab(data1['y_Actual'], data1['y_Predicted'], rownames=['True Labels'], colnames=['Predicted Labels'])\n",
    "\n",
    "sn.heatmap(confusion_matrix, annot=True,cmap=\"Blues\",fmt='g')\n",
    "plt.show()"
   ]
  },
  {
   "cell_type": "code",
   "execution_count": null,
   "metadata": {},
   "outputs": [],
   "source": [
    "from sklearn.metrics import accuracy_score, f1_score, precision_score, recall_score, classification_report, confusion_matrix\n",
    "\n",
    "print(f1_score(data1['y_Actual'], data1['y_Predicted'],average='macro'))\n",
    "print(precision_score(data1['y_Actual'], data1['y_Predicted'],average='macro'))\n",
    "print(recall_score(data1['y_Actual'], data1['y_Predicted'],average='macro'))"
   ]
  },
  {
   "cell_type": "code",
   "execution_count": null,
   "metadata": {},
   "outputs": [],
   "source": [
    "from sklearn.metrics import classification_report\n",
    "from sklearn.metrics import f1_score\n",
    "\n",
    "print(classification_report(data1['y_Actual'], data1['y_Predicted'], target_names=['arrow','graph','lense','light','others','paper','picture','power_supply','questions','rail','text']))\n",
    "\n",
    "#f1_score(data1['y_Actual'], data1['y_Predicted'], average='macro',pos_label=1)"
   ]
  },
  {
   "cell_type": "code",
   "execution_count": null,
   "metadata": {},
   "outputs": [],
   "source": [
    "import numpy as np\n",
    "import matplotlib.pyplot as plt\n",
    "#names = ['arrow','graph','lense','light','others','paper','picture','power_supply','questions','rail','text']\n",
    "values = np.arange(0, 10000, 1)\n",
    "#plt.scatter(values,data1['y_Actual'][:500])\n",
    "plt.scatter(values,data1['y_Predicted'][:10000],s=5,c='grey')"
   ]
  },
  {
   "cell_type": "code",
   "execution_count": null,
   "metadata": {},
   "outputs": [],
   "source": [
    "import numpy as np\n",
    "import matplotlib.pyplot as plt\n",
    "#names = ['arrow','graph','lense','light','others','paper','picture','power_supply','questions','rail','text']\n",
    "values = np.arange(0, 10000, 1)\n",
    "plt.scatter(values,data1['y_Actual'][:10000],s=5, c='grey',)\n",
    "#plt.scatter(values,data1['y_Predicted'][:500])"
   ]
  },
  {
   "cell_type": "code",
   "execution_count": null,
   "metadata": {},
   "outputs": [],
   "source": [
    "import numpy as np\n",
    "import pandas as pd\n",
    "import matplotlib.pyplot as plt\n",
    "import seaborn as sns\n",
    "\n",
    "#df = pd.DataFrame(np.random.uniform(-1, 1, (24,12)))\n",
    "#df.columns =  ['arrow','graph','lense','light','others','paper','picture','power_supply','questions','rail','text']\n",
    "sns.heatmap(data1, cmap = \"coolwarm\")"
   ]
  },
  {
   "cell_type": "code",
   "execution_count": null,
   "metadata": {},
   "outputs": [],
   "source": []
  }
 ],
 "metadata": {
  "kernelspec": {
   "display_name": "Python 3",
   "language": "python",
   "name": "python3"
  },
  "language_info": {
   "codemirror_mode": {
    "name": "ipython",
    "version": 3
   },
   "file_extension": ".py",
   "mimetype": "text/x-python",
   "name": "python",
   "nbconvert_exporter": "python",
   "pygments_lexer": "ipython3",
   "version": "3.7.3"
  }
 },
 "nbformat": 4,
 "nbformat_minor": 2
}
